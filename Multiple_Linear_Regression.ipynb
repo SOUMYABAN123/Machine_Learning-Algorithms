{
 "cells": [
  {
   "cell_type": "code",
   "execution_count": 1,
   "id": "a65e0c61-657d-4310-a0e9-cfd41e36d0e9",
   "metadata": {},
   "outputs": [],
   "source": [
    "import pandas as pd\n",
    "import matplotlib.pyplot as plt\n",
    "import numpy as np\n",
    "%matplotlib inline "
   ]
  },
  {
   "cell_type": "code",
   "execution_count": 3,
   "id": "d25aef03-5771-4019-a70a-2a1e14db2128",
   "metadata": {},
   "outputs": [],
   "source": [
    "df=pd.read_csv('economic_index.csv')"
   ]
  },
  {
   "cell_type": "code",
   "execution_count": 5,
   "id": "c2357fb1-04fc-46c9-9a9e-e0ae73888041",
   "metadata": {},
   "outputs": [
    {
     "data": {
      "text/html": [
       "<div>\n",
       "<style scoped>\n",
       "    .dataframe tbody tr th:only-of-type {\n",
       "        vertical-align: middle;\n",
       "    }\n",
       "\n",
       "    .dataframe tbody tr th {\n",
       "        vertical-align: top;\n",
       "    }\n",
       "\n",
       "    .dataframe thead th {\n",
       "        text-align: right;\n",
       "    }\n",
       "</style>\n",
       "<table border=\"1\" class=\"dataframe\">\n",
       "  <thead>\n",
       "    <tr style=\"text-align: right;\">\n",
       "      <th></th>\n",
       "      <th>Unnamed: 0</th>\n",
       "      <th>year</th>\n",
       "      <th>month</th>\n",
       "      <th>interest_rate</th>\n",
       "      <th>unemployment_rate</th>\n",
       "      <th>index_price</th>\n",
       "    </tr>\n",
       "  </thead>\n",
       "  <tbody>\n",
       "    <tr>\n",
       "      <th>0</th>\n",
       "      <td>0</td>\n",
       "      <td>2017</td>\n",
       "      <td>12</td>\n",
       "      <td>2.75</td>\n",
       "      <td>5.3</td>\n",
       "      <td>1464</td>\n",
       "    </tr>\n",
       "    <tr>\n",
       "      <th>1</th>\n",
       "      <td>1</td>\n",
       "      <td>2017</td>\n",
       "      <td>11</td>\n",
       "      <td>2.50</td>\n",
       "      <td>5.3</td>\n",
       "      <td>1394</td>\n",
       "    </tr>\n",
       "    <tr>\n",
       "      <th>2</th>\n",
       "      <td>2</td>\n",
       "      <td>2017</td>\n",
       "      <td>10</td>\n",
       "      <td>2.50</td>\n",
       "      <td>5.3</td>\n",
       "      <td>1357</td>\n",
       "    </tr>\n",
       "    <tr>\n",
       "      <th>3</th>\n",
       "      <td>3</td>\n",
       "      <td>2017</td>\n",
       "      <td>9</td>\n",
       "      <td>2.50</td>\n",
       "      <td>5.3</td>\n",
       "      <td>1293</td>\n",
       "    </tr>\n",
       "    <tr>\n",
       "      <th>4</th>\n",
       "      <td>4</td>\n",
       "      <td>2017</td>\n",
       "      <td>8</td>\n",
       "      <td>2.50</td>\n",
       "      <td>5.4</td>\n",
       "      <td>1256</td>\n",
       "    </tr>\n",
       "  </tbody>\n",
       "</table>\n",
       "</div>"
      ],
      "text/plain": [
       "   Unnamed: 0  year  month  interest_rate  unemployment_rate  index_price\n",
       "0           0  2017     12           2.75                5.3         1464\n",
       "1           1  2017     11           2.50                5.3         1394\n",
       "2           2  2017     10           2.50                5.3         1357\n",
       "3           3  2017      9           2.50                5.3         1293\n",
       "4           4  2017      8           2.50                5.4         1256"
      ]
     },
     "execution_count": 5,
     "metadata": {},
     "output_type": "execute_result"
    }
   ],
   "source": [
    "df.head()"
   ]
  },
  {
   "cell_type": "code",
   "execution_count": 11,
   "id": "b6043b09-be95-49b5-847e-89b6d4abc294",
   "metadata": {},
   "outputs": [],
   "source": [
    "## drop unnecceary column\n",
    "df.drop(columns=[\"Unnamed: 0\",\"year\", \"month\"],axis =1,inplace=True)"
   ]
  },
  {
   "cell_type": "code",
   "execution_count": 13,
   "id": "54edc3dd-f264-4c5d-98ad-ff5e58c2bb82",
   "metadata": {},
   "outputs": [
    {
     "data": {
      "text/html": [
       "<div>\n",
       "<style scoped>\n",
       "    .dataframe tbody tr th:only-of-type {\n",
       "        vertical-align: middle;\n",
       "    }\n",
       "\n",
       "    .dataframe tbody tr th {\n",
       "        vertical-align: top;\n",
       "    }\n",
       "\n",
       "    .dataframe thead th {\n",
       "        text-align: right;\n",
       "    }\n",
       "</style>\n",
       "<table border=\"1\" class=\"dataframe\">\n",
       "  <thead>\n",
       "    <tr style=\"text-align: right;\">\n",
       "      <th></th>\n",
       "      <th>interest_rate</th>\n",
       "      <th>unemployment_rate</th>\n",
       "      <th>index_price</th>\n",
       "    </tr>\n",
       "  </thead>\n",
       "  <tbody>\n",
       "    <tr>\n",
       "      <th>0</th>\n",
       "      <td>2.75</td>\n",
       "      <td>5.3</td>\n",
       "      <td>1464</td>\n",
       "    </tr>\n",
       "    <tr>\n",
       "      <th>1</th>\n",
       "      <td>2.50</td>\n",
       "      <td>5.3</td>\n",
       "      <td>1394</td>\n",
       "    </tr>\n",
       "    <tr>\n",
       "      <th>2</th>\n",
       "      <td>2.50</td>\n",
       "      <td>5.3</td>\n",
       "      <td>1357</td>\n",
       "    </tr>\n",
       "    <tr>\n",
       "      <th>3</th>\n",
       "      <td>2.50</td>\n",
       "      <td>5.3</td>\n",
       "      <td>1293</td>\n",
       "    </tr>\n",
       "    <tr>\n",
       "      <th>4</th>\n",
       "      <td>2.50</td>\n",
       "      <td>5.4</td>\n",
       "      <td>1256</td>\n",
       "    </tr>\n",
       "    <tr>\n",
       "      <th>5</th>\n",
       "      <td>2.50</td>\n",
       "      <td>5.6</td>\n",
       "      <td>1254</td>\n",
       "    </tr>\n",
       "    <tr>\n",
       "      <th>6</th>\n",
       "      <td>2.50</td>\n",
       "      <td>5.5</td>\n",
       "      <td>1234</td>\n",
       "    </tr>\n",
       "    <tr>\n",
       "      <th>7</th>\n",
       "      <td>2.25</td>\n",
       "      <td>5.5</td>\n",
       "      <td>1195</td>\n",
       "    </tr>\n",
       "    <tr>\n",
       "      <th>8</th>\n",
       "      <td>2.25</td>\n",
       "      <td>5.5</td>\n",
       "      <td>1159</td>\n",
       "    </tr>\n",
       "    <tr>\n",
       "      <th>9</th>\n",
       "      <td>2.25</td>\n",
       "      <td>5.6</td>\n",
       "      <td>1167</td>\n",
       "    </tr>\n",
       "    <tr>\n",
       "      <th>10</th>\n",
       "      <td>2.00</td>\n",
       "      <td>5.7</td>\n",
       "      <td>1130</td>\n",
       "    </tr>\n",
       "    <tr>\n",
       "      <th>11</th>\n",
       "      <td>2.00</td>\n",
       "      <td>5.9</td>\n",
       "      <td>1075</td>\n",
       "    </tr>\n",
       "    <tr>\n",
       "      <th>12</th>\n",
       "      <td>2.00</td>\n",
       "      <td>6.0</td>\n",
       "      <td>1047</td>\n",
       "    </tr>\n",
       "    <tr>\n",
       "      <th>13</th>\n",
       "      <td>1.75</td>\n",
       "      <td>5.9</td>\n",
       "      <td>965</td>\n",
       "    </tr>\n",
       "    <tr>\n",
       "      <th>14</th>\n",
       "      <td>1.75</td>\n",
       "      <td>5.8</td>\n",
       "      <td>943</td>\n",
       "    </tr>\n",
       "    <tr>\n",
       "      <th>15</th>\n",
       "      <td>1.75</td>\n",
       "      <td>6.1</td>\n",
       "      <td>958</td>\n",
       "    </tr>\n",
       "    <tr>\n",
       "      <th>16</th>\n",
       "      <td>1.75</td>\n",
       "      <td>6.2</td>\n",
       "      <td>971</td>\n",
       "    </tr>\n",
       "    <tr>\n",
       "      <th>17</th>\n",
       "      <td>1.75</td>\n",
       "      <td>6.1</td>\n",
       "      <td>949</td>\n",
       "    </tr>\n",
       "    <tr>\n",
       "      <th>18</th>\n",
       "      <td>1.75</td>\n",
       "      <td>6.1</td>\n",
       "      <td>884</td>\n",
       "    </tr>\n",
       "    <tr>\n",
       "      <th>19</th>\n",
       "      <td>1.75</td>\n",
       "      <td>6.1</td>\n",
       "      <td>866</td>\n",
       "    </tr>\n",
       "    <tr>\n",
       "      <th>20</th>\n",
       "      <td>1.75</td>\n",
       "      <td>5.9</td>\n",
       "      <td>876</td>\n",
       "    </tr>\n",
       "    <tr>\n",
       "      <th>21</th>\n",
       "      <td>1.75</td>\n",
       "      <td>6.2</td>\n",
       "      <td>822</td>\n",
       "    </tr>\n",
       "    <tr>\n",
       "      <th>22</th>\n",
       "      <td>1.75</td>\n",
       "      <td>6.2</td>\n",
       "      <td>704</td>\n",
       "    </tr>\n",
       "    <tr>\n",
       "      <th>23</th>\n",
       "      <td>1.75</td>\n",
       "      <td>6.1</td>\n",
       "      <td>719</td>\n",
       "    </tr>\n",
       "  </tbody>\n",
       "</table>\n",
       "</div>"
      ],
      "text/plain": [
       "    interest_rate  unemployment_rate  index_price\n",
       "0            2.75                5.3         1464\n",
       "1            2.50                5.3         1394\n",
       "2            2.50                5.3         1357\n",
       "3            2.50                5.3         1293\n",
       "4            2.50                5.4         1256\n",
       "5            2.50                5.6         1254\n",
       "6            2.50                5.5         1234\n",
       "7            2.25                5.5         1195\n",
       "8            2.25                5.5         1159\n",
       "9            2.25                5.6         1167\n",
       "10           2.00                5.7         1130\n",
       "11           2.00                5.9         1075\n",
       "12           2.00                6.0         1047\n",
       "13           1.75                5.9          965\n",
       "14           1.75                5.8          943\n",
       "15           1.75                6.1          958\n",
       "16           1.75                6.2          971\n",
       "17           1.75                6.1          949\n",
       "18           1.75                6.1          884\n",
       "19           1.75                6.1          866\n",
       "20           1.75                5.9          876\n",
       "21           1.75                6.2          822\n",
       "22           1.75                6.2          704\n",
       "23           1.75                6.1          719"
      ]
     },
     "execution_count": 13,
     "metadata": {},
     "output_type": "execute_result"
    }
   ],
   "source": [
    "df"
   ]
  },
  {
   "cell_type": "code",
   "execution_count": 15,
   "id": "f6e610c3-2500-4068-b64c-44b51d66ac0e",
   "metadata": {},
   "outputs": [
    {
     "data": {
      "text/plain": [
       "interest_rate        0\n",
       "unemployment_rate    0\n",
       "index_price          0\n",
       "dtype: int64"
      ]
     },
     "execution_count": 15,
     "metadata": {},
     "output_type": "execute_result"
    }
   ],
   "source": [
    "## check null values\n",
    "df.isnull().sum()"
   ]
  },
  {
   "cell_type": "code",
   "execution_count": 17,
   "id": "1f3404ff-9a44-48ec-9602-24b22adb1503",
   "metadata": {},
   "outputs": [
    {
     "data": {
      "image/png": "[encoded data removed]",
      "text/plain": [
       "<Figure size 750x750 with 12 Axes>"
      ]
     },
     "metadata": {},
     "output_type": "display_data"
    }
   ],
   "source": [
    "## seaborn for visualization\n",
    "import seaborn as sns\n",
    "sns.pairplot(df)\n",
    "plt.show()"
   ]
  },
  {
   "cell_type": "code",
   "execution_count": 19,
   "id": "248e5589-8282-453a-9a0f-6fbb727c6ccd",
   "metadata": {},
   "outputs": [
    {
     "data": {
      "text/html": [
       "<div>\n",
       "<style scoped>\n",
       "    .dataframe tbody tr th:only-of-type {\n",
       "        vertical-align: middle;\n",
       "    }\n",
       "\n",
       "    .dataframe tbody tr th {\n",
       "        vertical-align: top;\n",
       "    }\n",
       "\n",
       "    .dataframe thead th {\n",
       "        text-align: right;\n",
       "    }\n",
       "</style>\n",
       "<table border=\"1\" class=\"dataframe\">\n",
       "  <thead>\n",
       "    <tr style=\"text-align: right;\">\n",
       "      <th></th>\n",
       "      <th>interest_rate</th>\n",
       "      <th>unemployment_rate</th>\n",
       "      <th>index_price</th>\n",
       "    </tr>\n",
       "  </thead>\n",
       "  <tbody>\n",
       "    <tr>\n",
       "      <th>interest_rate</th>\n",
       "      <td>1.000000</td>\n",
       "      <td>-0.925814</td>\n",
       "      <td>0.935793</td>\n",
       "    </tr>\n",
       "    <tr>\n",
       "      <th>unemployment_rate</th>\n",
       "      <td>-0.925814</td>\n",
       "      <td>1.000000</td>\n",
       "      <td>-0.922338</td>\n",
       "    </tr>\n",
       "    <tr>\n",
       "      <th>index_price</th>\n",
       "      <td>0.935793</td>\n",
       "      <td>-0.922338</td>\n",
       "      <td>1.000000</td>\n",
       "    </tr>\n",
       "  </tbody>\n",
       "</table>\n",
       "</div>"
      ],
      "text/plain": [
       "                   interest_rate  unemployment_rate  index_price\n",
       "interest_rate           1.000000          -0.925814     0.935793\n",
       "unemployment_rate      -0.925814           1.000000    -0.922338\n",
       "index_price             0.935793          -0.922338     1.000000"
      ]
     },
     "execution_count": 19,
     "metadata": {},
     "output_type": "execute_result"
    }
   ],
   "source": [
    "df.corr()"
   ]
  },
  {
   "cell_type": "code",
   "execution_count": 25,
   "id": "7f91c748-286a-44ed-b453-9fe69f58fa42",
   "metadata": {},
   "outputs": [
    {
     "data": {
      "image/png": "[encoded data removed]",
      "text/plain": [
       "<Figure size 640x480 with 1 Axes>"
      ]
     },
     "metadata": {},
     "output_type": "display_data"
    }
   ],
   "source": [
    "## visualize data point\n",
    "plt.scatter(df['interest_rate'],df['unemployment_rate'],color='r')\n",
    "plt.xlabel(\"Interest Rate\")\n",
    "plt.ylabel(\"Unemployement Rate\")\n",
    "plt.show()"
   ]
  },
  {
   "cell_type": "code",
   "execution_count": 27,
   "id": "994a2266-aba8-4a1d-b2e1-fa5db975f05f",
   "metadata": {},
   "outputs": [],
   "source": [
    "## independent and dependent\n",
    "X = df.iloc[:,:-1]\n",
    "Y= df.iloc[:,-1]"
   ]
  },
  {
   "cell_type": "code",
   "execution_count": 29,
   "id": "1dc363d8-d45e-4353-a486-3e1f58721448",
   "metadata": {},
   "outputs": [
    {
     "data": {
      "text/html": [
       "<div>\n",
       "<style scoped>\n",
       "    .dataframe tbody tr th:only-of-type {\n",
       "        vertical-align: middle;\n",
       "    }\n",
       "\n",
       "    .dataframe tbody tr th {\n",
       "        vertical-align: top;\n",
       "    }\n",
       "\n",
       "    .dataframe thead th {\n",
       "        text-align: right;\n",
       "    }\n",
       "</style>\n",
       "<table border=\"1\" class=\"dataframe\">\n",
       "  <thead>\n",
       "    <tr style=\"text-align: right;\">\n",
       "      <th></th>\n",
       "      <th>interest_rate</th>\n",
       "      <th>unemployment_rate</th>\n",
       "    </tr>\n",
       "  </thead>\n",
       "  <tbody>\n",
       "    <tr>\n",
       "      <th>0</th>\n",
       "      <td>2.75</td>\n",
       "      <td>5.3</td>\n",
       "    </tr>\n",
       "    <tr>\n",
       "      <th>1</th>\n",
       "      <td>2.50</td>\n",
       "      <td>5.3</td>\n",
       "    </tr>\n",
       "    <tr>\n",
       "      <th>2</th>\n",
       "      <td>2.50</td>\n",
       "      <td>5.3</td>\n",
       "    </tr>\n",
       "    <tr>\n",
       "      <th>3</th>\n",
       "      <td>2.50</td>\n",
       "      <td>5.3</td>\n",
       "    </tr>\n",
       "    <tr>\n",
       "      <th>4</th>\n",
       "      <td>2.50</td>\n",
       "      <td>5.4</td>\n",
       "    </tr>\n",
       "    <tr>\n",
       "      <th>5</th>\n",
       "      <td>2.50</td>\n",
       "      <td>5.6</td>\n",
       "    </tr>\n",
       "    <tr>\n",
       "      <th>6</th>\n",
       "      <td>2.50</td>\n",
       "      <td>5.5</td>\n",
       "    </tr>\n",
       "    <tr>\n",
       "      <th>7</th>\n",
       "      <td>2.25</td>\n",
       "      <td>5.5</td>\n",
       "    </tr>\n",
       "    <tr>\n",
       "      <th>8</th>\n",
       "      <td>2.25</td>\n",
       "      <td>5.5</td>\n",
       "    </tr>\n",
       "    <tr>\n",
       "      <th>9</th>\n",
       "      <td>2.25</td>\n",
       "      <td>5.6</td>\n",
       "    </tr>\n",
       "    <tr>\n",
       "      <th>10</th>\n",
       "      <td>2.00</td>\n",
       "      <td>5.7</td>\n",
       "    </tr>\n",
       "    <tr>\n",
       "      <th>11</th>\n",
       "      <td>2.00</td>\n",
       "      <td>5.9</td>\n",
       "    </tr>\n",
       "    <tr>\n",
       "      <th>12</th>\n",
       "      <td>2.00</td>\n",
       "      <td>6.0</td>\n",
       "    </tr>\n",
       "    <tr>\n",
       "      <th>13</th>\n",
       "      <td>1.75</td>\n",
       "      <td>5.9</td>\n",
       "    </tr>\n",
       "    <tr>\n",
       "      <th>14</th>\n",
       "      <td>1.75</td>\n",
       "      <td>5.8</td>\n",
       "    </tr>\n",
       "    <tr>\n",
       "      <th>15</th>\n",
       "      <td>1.75</td>\n",
       "      <td>6.1</td>\n",
       "    </tr>\n",
       "    <tr>\n",
       "      <th>16</th>\n",
       "      <td>1.75</td>\n",
       "      <td>6.2</td>\n",
       "    </tr>\n",
       "    <tr>\n",
       "      <th>17</th>\n",
       "      <td>1.75</td>\n",
       "      <td>6.1</td>\n",
       "    </tr>\n",
       "    <tr>\n",
       "      <th>18</th>\n",
       "      <td>1.75</td>\n",
       "      <td>6.1</td>\n",
       "    </tr>\n",
       "    <tr>\n",
       "      <th>19</th>\n",
       "      <td>1.75</td>\n",
       "      <td>6.1</td>\n",
       "    </tr>\n",
       "    <tr>\n",
       "      <th>20</th>\n",
       "      <td>1.75</td>\n",
       "      <td>5.9</td>\n",
       "    </tr>\n",
       "    <tr>\n",
       "      <th>21</th>\n",
       "      <td>1.75</td>\n",
       "      <td>6.2</td>\n",
       "    </tr>\n",
       "    <tr>\n",
       "      <th>22</th>\n",
       "      <td>1.75</td>\n",
       "      <td>6.2</td>\n",
       "    </tr>\n",
       "    <tr>\n",
       "      <th>23</th>\n",
       "      <td>1.75</td>\n",
       "      <td>6.1</td>\n",
       "    </tr>\n",
       "  </tbody>\n",
       "</table>\n",
       "</div>"
      ],
      "text/plain": [
       "    interest_rate  unemployment_rate\n",
       "0            2.75                5.3\n",
       "1            2.50                5.3\n",
       "2            2.50                5.3\n",
       "3            2.50                5.3\n",
       "4            2.50                5.4\n",
       "5            2.50                5.6\n",
       "6            2.50                5.5\n",
       "7            2.25                5.5\n",
       "8            2.25                5.5\n",
       "9            2.25                5.6\n",
       "10           2.00                5.7\n",
       "11           2.00                5.9\n",
       "12           2.00                6.0\n",
       "13           1.75                5.9\n",
       "14           1.75                5.8\n",
       "15           1.75                6.1\n",
       "16           1.75                6.2\n",
       "17           1.75                6.1\n",
       "18           1.75                6.1\n",
       "19           1.75                6.1\n",
       "20           1.75                5.9\n",
       "21           1.75                6.2\n",
       "22           1.75                6.2\n",
       "23           1.75                6.1"
      ]
     },
     "execution_count": 29,
     "metadata": {},
     "output_type": "execute_result"
    }
   ],
   "source": [
    "X"
   ]
  },
  {
   "cell_type": "code",
   "execution_count": 31,
   "id": "f608e691-f19d-4437-8068-c8d5e605687d",
   "metadata": {},
   "outputs": [
    {
     "data": {
      "text/plain": [
       "0     1464\n",
       "1     1394\n",
       "2     1357\n",
       "3     1293\n",
       "4     1256\n",
       "5     1254\n",
       "6     1234\n",
       "7     1195\n",
       "8     1159\n",
       "9     1167\n",
       "10    1130\n",
       "11    1075\n",
       "12    1047\n",
       "13     965\n",
       "14     943\n",
       "15     958\n",
       "16     971\n",
       "17     949\n",
       "18     884\n",
       "19     866\n",
       "20     876\n",
       "21     822\n",
       "22     704\n",
       "23     719\n",
       "Name: index_price, dtype: int64"
      ]
     },
     "execution_count": 31,
     "metadata": {},
     "output_type": "execute_result"
    }
   ],
   "source": [
    "Y"
   ]
  },
  {
   "cell_type": "code",
   "execution_count": 33,
   "id": "51994b21-6e26-4556-b8a1-6a96c84ce3af",
   "metadata": {},
   "outputs": [],
   "source": [
    "## train the test split\n",
    "from sklearn.model_selection import train_test_split\n",
    "X_train, X_test, Y_train, Y_test = train_test_split(X,Y, test_size=0.25, random_state=42)"
   ]
  },
  {
   "cell_type": "code",
   "execution_count": 35,
   "id": "ba521123-bc7a-43bc-a08c-8a3b683dc262",
   "metadata": {},
   "outputs": [],
   "source": [
    "import seaborn as sns"
   ]
  },
  {
   "cell_type": "code",
   "execution_count": 49,
   "id": "18d446f1-d173-4bbf-a688-9a1569e4a703",
   "metadata": {},
   "outputs": [
    {
     "ename": "TypeError",
     "evalue": "regplot() takes from 0 to 1 positional arguments but 2 were given",
     "output_type": "error",
     "traceback": [
      "\u001b[1;31m---------------------------------------------------------------------------\u001b[0m",
      "\u001b[1;31mTypeError\u001b[0m                                 Traceback (most recent call last)",
      "Cell \u001b[1;32mIn[49], line 1\u001b[0m\n\u001b[1;32m----> 1\u001b[0m sns\u001b[38;5;241m.\u001b[39mregplot(df[\u001b[38;5;124m'\u001b[39m\u001b[38;5;124minterest_rate\u001b[39m\u001b[38;5;124m'\u001b[39m], df[\u001b[38;5;124m'\u001b[39m\u001b[38;5;124mindex_price\u001b[39m\u001b[38;5;124m'\u001b[39m])\n",
      "\u001b[1;31mTypeError\u001b[0m: regplot() takes from 0 to 1 positional arguments but 2 were given"
     ]
    }
   ],
   "source": [
    "sns.regplot(df['interest_rate'], df['index_price'])"
   ]
  },
  {
   "cell_type": "code",
   "execution_count": 51,
   "id": "4f4737a6-e7fb-4012-9227-cde169be670f",
   "metadata": {},
   "outputs": [
    {
     "data": {
      "image/png": "[encoded data removed]",
      "text/plain": [
       "<Figure size 640x480 with 1 Axes>"
      ]
     },
     "metadata": {},
     "output_type": "display_data"
    }
   ],
   "source": [
    "import seaborn as sns\n",
    "import matplotlib.pyplot as plt\n",
    "\n",
    "sns.regplot(x='interest_rate', y='index_price', data=df)\n",
    "plt.show()"
   ]
  },
  {
   "cell_type": "code",
   "execution_count": 53,
   "id": "57aa679d-6d62-4f5c-a330-b0664fc35b32",
   "metadata": {},
   "outputs": [],
   "source": [
    "## standerdization\n",
    "from sklearn.preprocessing import StandardScaler"
   ]
  },
  {
   "cell_type": "code",
   "execution_count": 55,
   "id": "070c79be-bec8-4cd5-bd1d-4c5acc35aab4",
   "metadata": {},
   "outputs": [],
   "source": [
    "scaler = StandardScaler()\n",
    "X_train=scaler.fit_transform(X_train)"
   ]
  },
  {
   "cell_type": "code",
   "execution_count": 63,
   "id": "a7ef15a0-6457-4ef8-a8ea-156e8f55a9e1",
   "metadata": {},
   "outputs": [],
   "source": [
    "X_test=scaler.fit_transform(X_test)"
   ]
  },
  {
   "cell_type": "code",
   "execution_count": 59,
   "id": "34084a05-b3b1-48bb-954c-f7d58af4f0f1",
   "metadata": {},
   "outputs": [
    {
     "data": {
      "text/plain": [
       "array([[-0.90115511,  0.37908503],\n",
       "       [ 1.31077107, -1.48187786],\n",
       "       [-0.90115511,  1.30956648],\n",
       "       [ 1.31077107, -0.55139641],\n",
       "       [ 1.31077107, -1.48187786],\n",
       "       [-0.16384638,  0.68924552],\n",
       "       [-0.90115511,  0.999406  ],\n",
       "       [ 1.31077107, -1.48187786],\n",
       "       [ 1.31077107, -1.17171738],\n",
       "       [-0.90115511,  1.30956648],\n",
       "       [-0.90115511,  0.999406  ],\n",
       "       [-0.90115511,  0.37908503],\n",
       "       [-0.90115511,  0.999406  ],\n",
       "       [ 0.57346234, -0.8615569 ],\n",
       "       [-0.16384638, -0.24123593],\n",
       "       [-0.90115511,  0.06892455],\n",
       "       [-0.90115511,  0.999406  ],\n",
       "       [ 1.31077107, -0.8615569 ]])"
      ]
     },
     "execution_count": 59,
     "metadata": {},
     "output_type": "execute_result"
    }
   ],
   "source": [
    "X_train"
   ]
  },
  {
   "cell_type": "code",
   "execution_count": 65,
   "id": "aabfc4c6-a48c-4b61-8c88-f0bfff5eed49",
   "metadata": {},
   "outputs": [
    {
     "data": {
      "text/plain": [
       "array([[ 0.36115756, -0.82078268],\n",
       "       [-1.08347268,  1.33377186],\n",
       "       [ 1.8057878 , -1.43636969],\n",
       "       [-1.08347268,  1.02597835],\n",
       "       [-0.36115756,  0.41039134],\n",
       "       [ 0.36115756, -0.51298918]])"
      ]
     },
     "execution_count": 65,
     "metadata": {},
     "output_type": "execute_result"
    }
   ],
   "source": [
    "X_test"
   ]
  },
  {
   "cell_type": "code",
   "execution_count": null,
   "id": "9e1deb03-4bfe-42a1-a53b-7c66abac54d0",
   "metadata": {},
   "outputs": [],
   "source": []
  }
 ],
 "metadata": {
  "kernelspec": {
   "display_name": "Python 3 (ipykernel)",
   "language": "python",
   "name": "python3"
  },
  "language_info": {
   "codemirror_mode": {
    "name": "ipython",
    "version": 3
   },
   "file_extension": ".py",
   "mimetype": "text/x-python",
   "name": "python",
   "nbconvert_exporter": "python",
   "pygments_lexer": "ipython3",
   "version": "3.12.7"
  }
 },
 "nbformat": 4,
 "nbformat_minor": 5
}
